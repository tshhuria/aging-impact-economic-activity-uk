{
 "cells": [
  {
   "cell_type": "code",
   "id": "initial_id",
   "metadata": {
    "collapsed": true,
    "ExecuteTime": {
     "end_time": "2024-05-18T14:51:05.304911Z",
     "start_time": "2024-05-18T14:51:05.292995Z"
    }
   },
   "source": [
    "import pandas as pd\n",
    "file_path = '/Users/tanmaysagarhuria/Desktop/VisualAnalyticsCourseWork/2011/HouseholdComposition-2011.csv'\n",
    "data = pd.read_csv(file_path)\n",
    "print(\"Column names in the dataset:\")\n",
    "print(data.columns)\n"
   ],
   "outputs": [
    {
     "name": "stdout",
     "output_type": "stream",
     "text": [
      "Column names in the dataset:\n",
      "Index(['date', 'geography', 'geography code', 'Rural Urban',\n",
      "       'Household Composition: All categories: Household composition; measures: Value',\n",
      "       'Household Composition: One person household; measures: Value',\n",
      "       'Household Composition: One person household: Aged 65 and over; measures: Value',\n",
      "       'Household Composition: One person household: Other; measures: Value',\n",
      "       'Household Composition: One family household; measures: Value',\n",
      "       'Household Composition: One family only: All aged 65 and over; measures: Value',\n",
      "       'Household Composition: One family only: Married or same-sex civil partnership couple; measures: Value',\n",
      "       'Household Composition: One family only: Married or same-sex civil partnership couple: No children; measures: Value',\n",
      "       'Household Composition: One family only: Married or same-sex civil partnership couple: Dependent children; measures: Value',\n",
      "       'Household Composition: One family only: Married or same-sex civil partnership couple: All children non-dependent; measures: Value',\n",
      "       'Household Composition: One family only: Cohabiting couple; measures: Value',\n",
      "       'Household Composition: One family only: Cohabiting couple: No children; measures: Value',\n",
      "       'Household Composition: One family only: Cohabiting couple: Dependent children; measures: Value',\n",
      "       'Household Composition: One family only: Cohabiting couple: All children non-dependent; measures: Value',\n",
      "       'Household Composition: One family only: Lone parent; measures: Value',\n",
      "       'Household Composition: One family only: Lone parent: Dependent children; measures: Value',\n",
      "       'Household Composition: One family only: Lone parent: All children non-dependent; measures: Value',\n",
      "       'Household Composition: Other household types; measures: Value',\n",
      "       'Household Composition: Other household types: With dependent children; measures: Value',\n",
      "       'Household Composition: Other household types: All full-time students; measures: Value',\n",
      "       'Household Composition: Other household types: All aged 65 and over; measures: Value',\n",
      "       'Household Composition: Other household types: Other; measures: Value',\n",
      "       'RowID'],\n",
      "      dtype='object')\n"
     ]
    }
   ],
   "execution_count": 4
  },
  {
   "metadata": {
    "ExecuteTime": {
     "end_time": "2024-05-18T15:13:06.657470Z",
     "start_time": "2024-05-18T15:13:06.647467Z"
    }
   },
   "cell_type": "code",
   "source": "data.columns = data.columns.str.strip().str.lower()\n",
   "id": "4ab61672fdb57314",
   "outputs": [],
   "execution_count": 5
  },
  {
   "metadata": {
    "ExecuteTime": {
     "end_time": "2024-05-18T15:16:13.787726Z",
     "start_time": "2024-05-18T15:16:13.775624Z"
    }
   },
   "cell_type": "code",
   "source": "data_cleaned = data.dropna()\n",
   "id": "fec92661c1aa3fe9",
   "outputs": [],
   "execution_count": 6
  },
  {
   "metadata": {},
   "cell_type": "code",
   "outputs": [],
   "execution_count": null,
   "source": "",
   "id": "a6c825a5fe4fca2f"
  }
 ],
 "metadata": {
  "kernelspec": {
   "display_name": "Python 3",
   "language": "python",
   "name": "python3"
  },
  "language_info": {
   "codemirror_mode": {
    "name": "ipython",
    "version": 2
   },
   "file_extension": ".py",
   "mimetype": "text/x-python",
   "name": "python",
   "nbconvert_exporter": "python",
   "pygments_lexer": "ipython2",
   "version": "2.7.6"
  }
 },
 "nbformat": 4,
 "nbformat_minor": 5
}
