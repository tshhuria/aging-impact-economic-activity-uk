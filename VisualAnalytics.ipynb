{
 "cells": [
  {
   "cell_type": "code",
   "id": "initial_id",
   "metadata": {
    "collapsed": true,
    "ExecuteTime": {
     "end_time": "2024-04-29T17:30:05.395313Z",
     "start_time": "2024-04-29T17:30:00.779654Z"
    }
   },
   "source": [
    "import pandas as pd\n",
    "import numpy as np\n",
    "\n",
    "data_path = '/Users/tanmaysagarhuria/Downloads/FinalVA2021.xlsx' \n",
    "data = pd.read_excel(data_path)"
   ],
   "outputs": [],
   "execution_count": 1
  },
  {
   "metadata": {
    "ExecuteTime": {
     "end_time": "2024-04-29T17:31:11.141546Z",
     "start_time": "2024-04-29T17:31:11.115122Z"
    }
   },
   "cell_type": "code",
   "source": "data.replace(-8, np.nan, inplace=True)",
   "id": "b2930b3f7b2b6b25",
   "outputs": [],
   "execution_count": 2
  },
  {
   "metadata": {
    "ExecuteTime": {
     "end_time": "2024-04-29T17:32:49.446750Z",
     "start_time": "2024-04-29T17:32:49.381353Z"
    }
   },
   "cell_type": "code",
   "source": "data.drop_duplicates(inplace=True)",
   "id": "2ae3c7f106513f5d",
   "outputs": [],
   "execution_count": 3
  },
  {
   "metadata": {
    "ExecuteTime": {
     "end_time": "2024-04-29T17:35:20.785034Z",
     "start_time": "2024-04-29T17:35:20.780700Z"
    }
   },
   "cell_type": "code",
   "source": "print(data.head())",
   "id": "8256054d2f8cbcc7",
   "outputs": [
    {
     "name": "stdout",
     "output_type": "stream",
     "text": [
      "  Lower tier local authorities Code Lower tier local authorities  \\\n",
      "0                         E06000001                   Hartlepool   \n",
      "1                         E06000001                   Hartlepool   \n",
      "2                         E06000001                   Hartlepool   \n",
      "3                         E06000001                   Hartlepool   \n",
      "4                         E06000001                   Hartlepool   \n",
      "\n",
      "   Number of adults in employment in household (5 categories) Code  \\\n",
      "0                                                NaN                 \n",
      "1                                                NaN                 \n",
      "2                                                NaN                 \n",
      "3                                                NaN                 \n",
      "4                                                NaN                 \n",
      "\n",
      "  Number of adults in employment in household (5 categories)  \\\n",
      "0                                     Does not apply           \n",
      "1                                     Does not apply           \n",
      "2                                     Does not apply           \n",
      "3                                     Does not apply           \n",
      "4                                     Does not apply           \n",
      "\n",
      "   Highest level of qualification (7 categories) Code  \\\n",
      "0                                                NaN    \n",
      "1                                                NaN    \n",
      "2                                                NaN    \n",
      "3                                                NaN    \n",
      "4                                                NaN    \n",
      "\n",
      "  Highest level of qualification (7 categories)  \\\n",
      "0                                Does not apply   \n",
      "1                                Does not apply   \n",
      "2                                Does not apply   \n",
      "3                                Does not apply   \n",
      "4                                Does not apply   \n",
      "\n",
      "   Occupation (current) (10 categories) Code  \\\n",
      "0                                        NaN   \n",
      "1                                        1.0   \n",
      "2                                        2.0   \n",
      "3                                        3.0   \n",
      "4                                        4.0   \n",
      "\n",
      "                Occupation (current) (10 categories)  Observation  \n",
      "0                                     Does not apply            0  \n",
      "1        1. Managers, directors and senior officials            0  \n",
      "2                        2. Professional occupations            0  \n",
      "3  3. Associate professional and technical occupa...            0  \n",
      "4      4. Administrative and secretarial occupations            0  \n"
     ]
    }
   ],
   "execution_count": 5
  },
  {
   "metadata": {
    "ExecuteTime": {
     "end_time": "2024-04-29T17:39:01.408824Z",
     "start_time": "2024-04-29T17:39:01.390553Z"
    }
   },
   "cell_type": "code",
   "source": "data = data[data['Observation'] != 0]",
   "id": "dbd7012e38a6ab30",
   "outputs": [],
   "execution_count": 6
  },
  {
   "metadata": {
    "ExecuteTime": {
     "end_time": "2024-04-29T17:39:25.944117Z",
     "start_time": "2024-04-29T17:39:25.934530Z"
    }
   },
   "cell_type": "code",
   "source": "data.head()",
   "id": "ff867fc029191cec",
   "outputs": [
    {
     "data": {
      "text/plain": [
       "   Lower tier local authorities Code Lower tier local authorities  \\\n",
       "70                         E06000001                   Hartlepool   \n",
       "80                         E06000001                   Hartlepool   \n",
       "88                         E06000001                   Hartlepool   \n",
       "90                         E06000001                   Hartlepool   \n",
       "94                         E06000001                   Hartlepool   \n",
       "\n",
       "    Number of adults in employment in household (5 categories) Code  \\\n",
       "70                                                0.0                 \n",
       "80                                                0.0                 \n",
       "88                                                0.0                 \n",
       "90                                                0.0                 \n",
       "94                                                0.0                 \n",
       "\n",
       "   Number of adults in employment in household (5 categories)  \\\n",
       "70               No adults in employment in household           \n",
       "80               No adults in employment in household           \n",
       "88               No adults in employment in household           \n",
       "90               No adults in employment in household           \n",
       "94               No adults in employment in household           \n",
       "\n",
       "    Highest level of qualification (7 categories) Code  \\\n",
       "70                                                NaN    \n",
       "80                                                0.0    \n",
       "88                                                0.0    \n",
       "90                                                1.0    \n",
       "94                                                1.0    \n",
       "\n",
       "        Highest level of qualification (7 categories)  \\\n",
       "70                                     Does not apply   \n",
       "80                                  No qualifications   \n",
       "88                                  No qualifications   \n",
       "90  Level 1 and entry level qualifications: 1 to 4...   \n",
       "94  Level 1 and entry level qualifications: 1 to 4...   \n",
       "\n",
       "    Occupation (current) (10 categories) Code  \\\n",
       "70                                        NaN   \n",
       "80                                        NaN   \n",
       "88                                        8.0   \n",
       "90                                        NaN   \n",
       "94                                        4.0   \n",
       "\n",
       "             Occupation (current) (10 categories)  Observation  \n",
       "70                                 Does not apply         4612  \n",
       "80                                 Does not apply        10699  \n",
       "88       8. Process, plant and machine operatives            1  \n",
       "90                                 Does not apply         2561  \n",
       "94  4. Administrative and secretarial occupations            1  "
      ],
      "text/html": [
       "<div>\n",
       "<style scoped>\n",
       "    .dataframe tbody tr th:only-of-type {\n",
       "        vertical-align: middle;\n",
       "    }\n",
       "\n",
       "    .dataframe tbody tr th {\n",
       "        vertical-align: top;\n",
       "    }\n",
       "\n",
       "    .dataframe thead th {\n",
       "        text-align: right;\n",
       "    }\n",
       "</style>\n",
       "<table border=\"1\" class=\"dataframe\">\n",
       "  <thead>\n",
       "    <tr style=\"text-align: right;\">\n",
       "      <th></th>\n",
       "      <th>Lower tier local authorities Code</th>\n",
       "      <th>Lower tier local authorities</th>\n",
       "      <th>Number of adults in employment in household (5 categories) Code</th>\n",
       "      <th>Number of adults in employment in household (5 categories)</th>\n",
       "      <th>Highest level of qualification (7 categories) Code</th>\n",
       "      <th>Highest level of qualification (7 categories)</th>\n",
       "      <th>Occupation (current) (10 categories) Code</th>\n",
       "      <th>Occupation (current) (10 categories)</th>\n",
       "      <th>Observation</th>\n",
       "    </tr>\n",
       "  </thead>\n",
       "  <tbody>\n",
       "    <tr>\n",
       "      <th>70</th>\n",
       "      <td>E06000001</td>\n",
       "      <td>Hartlepool</td>\n",
       "      <td>0.0</td>\n",
       "      <td>No adults in employment in household</td>\n",
       "      <td>NaN</td>\n",
       "      <td>Does not apply</td>\n",
       "      <td>NaN</td>\n",
       "      <td>Does not apply</td>\n",
       "      <td>4612</td>\n",
       "    </tr>\n",
       "    <tr>\n",
       "      <th>80</th>\n",
       "      <td>E06000001</td>\n",
       "      <td>Hartlepool</td>\n",
       "      <td>0.0</td>\n",
       "      <td>No adults in employment in household</td>\n",
       "      <td>0.0</td>\n",
       "      <td>No qualifications</td>\n",
       "      <td>NaN</td>\n",
       "      <td>Does not apply</td>\n",
       "      <td>10699</td>\n",
       "    </tr>\n",
       "    <tr>\n",
       "      <th>88</th>\n",
       "      <td>E06000001</td>\n",
       "      <td>Hartlepool</td>\n",
       "      <td>0.0</td>\n",
       "      <td>No adults in employment in household</td>\n",
       "      <td>0.0</td>\n",
       "      <td>No qualifications</td>\n",
       "      <td>8.0</td>\n",
       "      <td>8. Process, plant and machine operatives</td>\n",
       "      <td>1</td>\n",
       "    </tr>\n",
       "    <tr>\n",
       "      <th>90</th>\n",
       "      <td>E06000001</td>\n",
       "      <td>Hartlepool</td>\n",
       "      <td>0.0</td>\n",
       "      <td>No adults in employment in household</td>\n",
       "      <td>1.0</td>\n",
       "      <td>Level 1 and entry level qualifications: 1 to 4...</td>\n",
       "      <td>NaN</td>\n",
       "      <td>Does not apply</td>\n",
       "      <td>2561</td>\n",
       "    </tr>\n",
       "    <tr>\n",
       "      <th>94</th>\n",
       "      <td>E06000001</td>\n",
       "      <td>Hartlepool</td>\n",
       "      <td>0.0</td>\n",
       "      <td>No adults in employment in household</td>\n",
       "      <td>1.0</td>\n",
       "      <td>Level 1 and entry level qualifications: 1 to 4...</td>\n",
       "      <td>4.0</td>\n",
       "      <td>4. Administrative and secretarial occupations</td>\n",
       "      <td>1</td>\n",
       "    </tr>\n",
       "  </tbody>\n",
       "</table>\n",
       "</div>"
      ]
     },
     "execution_count": 7,
     "metadata": {},
     "output_type": "execute_result"
    }
   ],
   "execution_count": 7
  },
  {
   "metadata": {
    "ExecuteTime": {
     "end_time": "2024-04-29T17:48:16.078371Z",
     "start_time": "2024-04-29T17:48:16.066784Z"
    }
   },
   "cell_type": "code",
   "source": "data = data[data['Number of adults in employment in household (5 categories)'] != 'Does not apply']",
   "id": "35826fd2fcd22f97",
   "outputs": [],
   "execution_count": 8
  },
  {
   "metadata": {
    "ExecuteTime": {
     "end_time": "2024-04-29T17:51:36.198142Z",
     "start_time": "2024-04-29T17:51:36.188991Z"
    }
   },
   "cell_type": "code",
   "source": [
    "category_to_numeric = {\n",
    "    '1 adult in employment': 1,\n",
    "    '2 adults in employment': 2,\n",
    "    '3 or more adults in employment': 3,\n",
    "    'No adults in employment': 0\n",
    "}\n",
    "\n",
    "# Apply the mapping to the 'Number of adults in employment in household (5 categories)' column\n",
    "data['Number of adults in employment in household (5 categories)'] = data['Number of adults in employment in household (5 categories)'].map(category_to_numeric)\n",
    "\n",
    "# Check the transformation and show the first few rows to verify\n",
    "data.head()"
   ],
   "id": "664620abcd289b61",
   "outputs": [
    {
     "data": {
      "text/plain": [
       "   Lower tier local authorities Code Lower tier local authorities  \\\n",
       "70                         E06000001                   Hartlepool   \n",
       "80                         E06000001                   Hartlepool   \n",
       "88                         E06000001                   Hartlepool   \n",
       "90                         E06000001                   Hartlepool   \n",
       "94                         E06000001                   Hartlepool   \n",
       "\n",
       "    Number of adults in employment in household (5 categories) Code  \\\n",
       "70                                                0.0                 \n",
       "80                                                0.0                 \n",
       "88                                                0.0                 \n",
       "90                                                0.0                 \n",
       "94                                                0.0                 \n",
       "\n",
       "    Number of adults in employment in household (5 categories)  \\\n",
       "70                                                NaN            \n",
       "80                                                NaN            \n",
       "88                                                NaN            \n",
       "90                                                NaN            \n",
       "94                                                NaN            \n",
       "\n",
       "    Highest level of qualification (7 categories) Code  \\\n",
       "70                                                NaN    \n",
       "80                                                0.0    \n",
       "88                                                0.0    \n",
       "90                                                1.0    \n",
       "94                                                1.0    \n",
       "\n",
       "        Highest level of qualification (7 categories)  \\\n",
       "70                                     Does not apply   \n",
       "80                                  No qualifications   \n",
       "88                                  No qualifications   \n",
       "90  Level 1 and entry level qualifications: 1 to 4...   \n",
       "94  Level 1 and entry level qualifications: 1 to 4...   \n",
       "\n",
       "    Occupation (current) (10 categories) Code  \\\n",
       "70                                        NaN   \n",
       "80                                        NaN   \n",
       "88                                        8.0   \n",
       "90                                        NaN   \n",
       "94                                        4.0   \n",
       "\n",
       "             Occupation (current) (10 categories)  Observation  \n",
       "70                                 Does not apply         4612  \n",
       "80                                 Does not apply        10699  \n",
       "88       8. Process, plant and machine operatives            1  \n",
       "90                                 Does not apply         2561  \n",
       "94  4. Administrative and secretarial occupations            1  "
      ],
      "text/html": [
       "<div>\n",
       "<style scoped>\n",
       "    .dataframe tbody tr th:only-of-type {\n",
       "        vertical-align: middle;\n",
       "    }\n",
       "\n",
       "    .dataframe tbody tr th {\n",
       "        vertical-align: top;\n",
       "    }\n",
       "\n",
       "    .dataframe thead th {\n",
       "        text-align: right;\n",
       "    }\n",
       "</style>\n",
       "<table border=\"1\" class=\"dataframe\">\n",
       "  <thead>\n",
       "    <tr style=\"text-align: right;\">\n",
       "      <th></th>\n",
       "      <th>Lower tier local authorities Code</th>\n",
       "      <th>Lower tier local authorities</th>\n",
       "      <th>Number of adults in employment in household (5 categories) Code</th>\n",
       "      <th>Number of adults in employment in household (5 categories)</th>\n",
       "      <th>Highest level of qualification (7 categories) Code</th>\n",
       "      <th>Highest level of qualification (7 categories)</th>\n",
       "      <th>Occupation (current) (10 categories) Code</th>\n",
       "      <th>Occupation (current) (10 categories)</th>\n",
       "      <th>Observation</th>\n",
       "    </tr>\n",
       "  </thead>\n",
       "  <tbody>\n",
       "    <tr>\n",
       "      <th>70</th>\n",
       "      <td>E06000001</td>\n",
       "      <td>Hartlepool</td>\n",
       "      <td>0.0</td>\n",
       "      <td>NaN</td>\n",
       "      <td>NaN</td>\n",
       "      <td>Does not apply</td>\n",
       "      <td>NaN</td>\n",
       "      <td>Does not apply</td>\n",
       "      <td>4612</td>\n",
       "    </tr>\n",
       "    <tr>\n",
       "      <th>80</th>\n",
       "      <td>E06000001</td>\n",
       "      <td>Hartlepool</td>\n",
       "      <td>0.0</td>\n",
       "      <td>NaN</td>\n",
       "      <td>0.0</td>\n",
       "      <td>No qualifications</td>\n",
       "      <td>NaN</td>\n",
       "      <td>Does not apply</td>\n",
       "      <td>10699</td>\n",
       "    </tr>\n",
       "    <tr>\n",
       "      <th>88</th>\n",
       "      <td>E06000001</td>\n",
       "      <td>Hartlepool</td>\n",
       "      <td>0.0</td>\n",
       "      <td>NaN</td>\n",
       "      <td>0.0</td>\n",
       "      <td>No qualifications</td>\n",
       "      <td>8.0</td>\n",
       "      <td>8. Process, plant and machine operatives</td>\n",
       "      <td>1</td>\n",
       "    </tr>\n",
       "    <tr>\n",
       "      <th>90</th>\n",
       "      <td>E06000001</td>\n",
       "      <td>Hartlepool</td>\n",
       "      <td>0.0</td>\n",
       "      <td>NaN</td>\n",
       "      <td>1.0</td>\n",
       "      <td>Level 1 and entry level qualifications: 1 to 4...</td>\n",
       "      <td>NaN</td>\n",
       "      <td>Does not apply</td>\n",
       "      <td>2561</td>\n",
       "    </tr>\n",
       "    <tr>\n",
       "      <th>94</th>\n",
       "      <td>E06000001</td>\n",
       "      <td>Hartlepool</td>\n",
       "      <td>0.0</td>\n",
       "      <td>NaN</td>\n",
       "      <td>1.0</td>\n",
       "      <td>Level 1 and entry level qualifications: 1 to 4...</td>\n",
       "      <td>4.0</td>\n",
       "      <td>4. Administrative and secretarial occupations</td>\n",
       "      <td>1</td>\n",
       "    </tr>\n",
       "  </tbody>\n",
       "</table>\n",
       "</div>"
      ]
     },
     "execution_count": 9,
     "metadata": {},
     "output_type": "execute_result"
    }
   ],
   "execution_count": 9
  },
  {
   "metadata": {
    "ExecuteTime": {
     "end_time": "2024-04-29T17:55:03.108182Z",
     "start_time": "2024-04-29T17:55:03.098948Z"
    }
   },
   "cell_type": "code",
   "source": "data = data.drop('Number of adults in employment in household (5 categories)', axis=1)",
   "id": "262937b95a469955",
   "outputs": [],
   "execution_count": 10
  },
  {
   "metadata": {
    "ExecuteTime": {
     "end_time": "2024-04-29T17:55:15.434048Z",
     "start_time": "2024-04-29T17:55:15.431659Z"
    }
   },
   "cell_type": "code",
   "source": "remaining_columns = data.columns",
   "id": "2646134c437b5045",
   "outputs": [],
   "execution_count": 11
  },
  {
   "metadata": {
    "ExecuteTime": {
     "end_time": "2024-04-29T17:56:45.722146Z",
     "start_time": "2024-04-29T17:56:45.716567Z"
    }
   },
   "cell_type": "code",
   "source": "remaining_columns",
   "id": "8c9d78f4493c4aa3",
   "outputs": [
    {
     "data": {
      "text/plain": [
       "Index(['Lower tier local authorities Code', 'Lower tier local authorities',\n",
       "       'Number of adults in employment in household (5 categories) Code',\n",
       "       'Highest level of qualification (7 categories) Code',\n",
       "       'Highest level of qualification (7 categories)',\n",
       "       'Occupation (current) (10 categories) Code',\n",
       "       'Occupation (current) (10 categories)', 'Observation'],\n",
       "      dtype='object')"
      ]
     },
     "execution_count": 12,
     "metadata": {},
     "output_type": "execute_result"
    }
   ],
   "execution_count": 12
  },
  {
   "metadata": {
    "ExecuteTime": {
     "end_time": "2024-04-29T18:09:12.197271Z",
     "start_time": "2024-04-29T18:09:08.118575Z"
    }
   },
   "cell_type": "code",
   "source": [
    "output_file_path = '/Users/tanmaysagarhuria/Desktop/VisualAnalyticsCourseWork/CleanedData.xlsx'\n",
    "\n",
    "# Save the DataFrame to an Excel file\n",
    "data.to_excel(output_file_path, index=False)"
   ],
   "id": "3beb6e08cd4976dd",
   "outputs": [],
   "execution_count": 13
  },
  {
   "metadata": {
    "ExecuteTime": {
     "end_time": "2024-04-29T18:09:51.212608Z",
     "start_time": "2024-04-29T18:09:51.209808Z"
    }
   },
   "cell_type": "code",
   "source": "print(f\"DataFrame is saved as an Excel file at: {output_file_path}\")",
   "id": "9298db4ce170d5f1",
   "outputs": [
    {
     "name": "stdout",
     "output_type": "stream",
     "text": [
      "DataFrame is saved as an Excel file at: /Users/tanmaysagarhuria/Desktop/VisualAnalyticsCourseWork/CleanedData.xlsx\n"
     ]
    }
   ],
   "execution_count": 14
  },
  {
   "metadata": {
    "ExecuteTime": {
     "end_time": "2024-04-29T18:14:10.596205Z",
     "start_time": "2024-04-29T18:14:10.580137Z"
    }
   },
   "cell_type": "code",
   "source": "data_cleaned = data.dropna()",
   "id": "33baf14431a9a0f6",
   "outputs": [],
   "execution_count": 15
  },
  {
   "metadata": {
    "ExecuteTime": {
     "end_time": "2024-04-29T18:23:18.654372Z",
     "start_time": "2024-04-29T18:23:18.646490Z"
    }
   },
   "cell_type": "code",
   "source": "data['Occupation (current) (10 categories) Code'] = data['Occupation (current) (10 categories) Code'].fillna(0)",
   "id": "85c8d09a1c1e12c6",
   "outputs": [],
   "execution_count": 16
  },
  {
   "metadata": {
    "ExecuteTime": {
     "end_time": "2024-04-29T18:23:54.437871Z",
     "start_time": "2024-04-29T18:23:50.233552Z"
    }
   },
   "cell_type": "code",
   "source": [
    "output_file_path = '/Users/tanmaysagarhuria/Desktop/VisualAnalyticsCourseWork/CleanedData2.xlsx'\n",
    "data.to_excel(output_file_path, index=False)"
   ],
   "id": "29debec245ccd97a",
   "outputs": [],
   "execution_count": 17
  },
  {
   "metadata": {
    "ExecuteTime": {
     "end_time": "2024-04-29T18:27:28.916652Z",
     "start_time": "2024-04-29T18:27:28.912586Z"
    }
   },
   "cell_type": "code",
   "source": "data['Highest level of qualification (7 categories) Code'] = data['Highest level of qualification (7 categories) Code'].fillna(0)",
   "id": "ac368ede6d0e4a5b",
   "outputs": [],
   "execution_count": 18
  },
  {
   "metadata": {
    "ExecuteTime": {
     "end_time": "2024-04-29T18:29:22.405274Z",
     "start_time": "2024-04-29T18:29:18.446514Z"
    }
   },
   "cell_type": "code",
   "source": [
    "output_file_path = '/Users/tanmaysagarhuria/Desktop/VisualAnalyticsCourseWork/CleanedData3.xlsx'\n",
    "data.to_excel(output_file_path, index=False)"
   ],
   "id": "6ea47c4bbaa49a6e",
   "outputs": [],
   "execution_count": 20
  },
  {
   "metadata": {
    "ExecuteTime": {
     "end_time": "2024-04-29T18:36:09.861915Z",
     "start_time": "2024-04-29T18:36:09.856550Z"
    }
   },
   "cell_type": "code",
   "source": [
    "data.rename(columns={\n",
    "    \"Number of adults in employment in household (5 categories) Code\": \"Number of adults in employment in household\"\n",
    "}, inplace=True)"
   ],
   "id": "20c871d3813f4af2",
   "outputs": [],
   "execution_count": 21
  },
  {
   "metadata": {},
   "cell_type": "code",
   "outputs": [],
   "execution_count": null,
   "source": "Highest level of qualification (7 categories) Code",
   "id": "2c78f3a52ede7d2c"
  },
  {
   "metadata": {
    "ExecuteTime": {
     "end_time": "2024-04-29T18:37:56.588528Z",
     "start_time": "2024-04-29T18:37:56.585667Z"
    }
   },
   "cell_type": "code",
   "source": [
    "data.rename(columns={\n",
    "    \"Highest level of qualification (7 categories) Code\": \"Highest level of qualification (7 categories) score\"\n",
    "}, inplace=True)"
   ],
   "id": "bc7a0f090e29467d",
   "outputs": [],
   "execution_count": 22
  },
  {
   "metadata": {
    "ExecuteTime": {
     "end_time": "2024-04-29T18:40:41.441164Z",
     "start_time": "2024-04-29T18:40:41.434612Z"
    }
   },
   "cell_type": "code",
   "source": [
    "data.rename(columns={\n",
    "    \"Lower tier local authorities Code\": \"Region code\"\n",
    "}, inplace=True)"
   ],
   "id": "1e17e7b1cf3fa535",
   "outputs": [],
   "execution_count": 23
  },
  {
   "metadata": {
    "ExecuteTime": {
     "end_time": "2024-04-29T18:41:33.347567Z",
     "start_time": "2024-04-29T18:41:33.344530Z"
    }
   },
   "cell_type": "code",
   "source": [
    "data.rename(columns={\n",
    "    \"Lower tier local authorities\": \"Region Name\"\n",
    "}, inplace=True)"
   ],
   "id": "7be3affc2de16fe0",
   "outputs": [],
   "execution_count": 24
  },
  {
   "metadata": {
    "ExecuteTime": {
     "end_time": "2024-04-29T18:42:13.191751Z",
     "start_time": "2024-04-29T18:42:09.006351Z"
    }
   },
   "cell_type": "code",
   "source": [
    "output_file_path = '/Users/tanmaysagarhuria/Desktop/VisualAnalyticsCourseWork/CleanedData4.xlsx'\n",
    "data.to_excel(output_file_path, index=False)"
   ],
   "id": "6e8a2a4ac897a061",
   "outputs": [],
   "execution_count": 25
  },
  {
   "metadata": {},
   "cell_type": "code",
   "outputs": [],
   "execution_count": null,
   "source": "",
   "id": "e6d4af0f9bcaccd3"
  }
 ],
 "metadata": {
  "kernelspec": {
   "display_name": "Python 3",
   "language": "python",
   "name": "python3"
  },
  "language_info": {
   "codemirror_mode": {
    "name": "ipython",
    "version": 2
   },
   "file_extension": ".py",
   "mimetype": "text/x-python",
   "name": "python",
   "nbconvert_exporter": "python",
   "pygments_lexer": "ipython2",
   "version": "2.7.6"
  }
 },
 "nbformat": 4,
 "nbformat_minor": 5
}
